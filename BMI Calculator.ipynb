{
 "cells": [
  {
   "cell_type": "code",
   "execution_count": 1,
   "id": "8d0a8db8-43ea-4be5-9a34-25cb3e7b6caa",
   "metadata": {},
   "outputs": [],
   "source": [
    "# BMI Calculator\n"
   ]
  },
  {
   "cell_type": "code",
   "execution_count": null,
   "id": "df94ac74-8487-4cfc-ad7c-43d22feba1fa",
   "metadata": {},
   "outputs": [],
   "source": [
    "# BMI = (weight in pounds x 703) / (height in inches x height in inches) "
   ]
  },
  {
   "cell_type": "code",
   "execution_count": null,
   "id": "312067f0-bb9e-4f4f-964d-75bb76d1ad57",
   "metadata": {},
   "outputs": [],
   "source": []
  },
  {
   "cell_type": "code",
   "execution_count": 18,
   "id": "6e094b09-a082-439c-9f92-8798ba55f31d",
   "metadata": {},
   "outputs": [
    {
     "name": "stdin",
     "output_type": "stream",
     "text": [
      "Enter your name:  Charlie \n",
      "Enter your weight in pounds:  160\n",
      "Enter your height in inches:  68\n"
     ]
    },
    {
     "name": "stdout",
     "output_type": "stream",
     "text": [
      "24.325259515570934\n",
      "Charlie , you are normal weight.\n"
     ]
    }
   ],
   "source": [
    "name = input(\"Enter your name: \")\n",
    "\n",
    "weight = int(input(\"Enter your weight in pounds: \"))\n",
    "\n",
    "height = int(input(\"Enter your height in inches: \"))\n",
    "\n",
    "BMI = (weight * 703) / (height * height) \n",
    "\n",
    "print(BMI)\n",
    "\n",
    "\n",
    "\n",
    "if BMI > 0:\n",
    "    if(BMI < 18.5):\n",
    "        print(name + \", you are underweight.\")\n",
    "    elif(BMI <= 24.9):\n",
    "        print(name + \", you are normal weight.\")\n",
    "    elif(BMI < 29.5):\n",
    "        print(name + \", you are overweight.\")\n",
    "    elif(BMI < 34.5):\n",
    "        print(name + \", you are Obese.\")\n",
    "    elif(BMI < 39.5):\n",
    "        print(name + \", you are severly Obese.\")\n",
    "    else:\n",
    "        print(name + \", you are Morbidly Obese.\")\n",
    "else:\n",
    "    print(\"Enter valid input\")"
   ]
  },
  {
   "cell_type": "code",
   "execution_count": null,
   "id": "379583f7-ba2f-4db7-93f2-cba104482576",
   "metadata": {},
   "outputs": [],
   "source": []
  },
  {
   "cell_type": "code",
   "execution_count": 17,
   "id": "7232e80c-d966-4b05-a3f2-d13a54e07954",
   "metadata": {},
   "outputs": [
    {
     "name": "stdout",
     "output_type": "stream",
     "text": [
      "Charlie, you are normal weight.\n"
     ]
    }
   ],
   "source": [
    "if BMI > 0:\n",
    "    if(BMI < 18.5):\n",
    "        print(name + \", you are underweight.\")\n",
    "    elif(BMI <= 24.9):\n",
    "        print(name + \", you are normal weight.\")\n",
    "    elif(BMI < 29.5):\n",
    "        print(name + \", you are overweight.\")\n",
    "    elif(BMI < 34.5):\n",
    "        print(name + \", you are Obese.\")\n",
    "    elif(BMI < 39.5):\n",
    "        print(name + \", you are severly Obese.\")\n",
    "    else:\n",
    "        print(name + \", you are Morbidly Obese.\")\n",
    "else:\n",
    "    print(\"Enter valid input\")\n",
    "\n",
    "        \n",
    "        \n",
    "        "
   ]
  },
  {
   "cell_type": "code",
   "execution_count": null,
   "id": "b927ec09-80d1-4e3e-bc57-d76815646055",
   "metadata": {},
   "outputs": [],
   "source": []
  },
  {
   "cell_type": "code",
   "execution_count": 8,
   "id": "be56b078-669c-4e04-98cd-df53a6a5c03d",
   "metadata": {},
   "outputs": [],
   "source": [
    "# print(weight)"
   ]
  },
  {
   "cell_type": "code",
   "execution_count": null,
   "id": "14458497-0fc9-4ed0-b027-bb3fae284c9a",
   "metadata": {},
   "outputs": [],
   "source": []
  },
  {
   "cell_type": "code",
   "execution_count": null,
   "id": "e87bc26c-6734-4257-9917-d8045f49a025",
   "metadata": {},
   "outputs": [],
   "source": []
  },
  {
   "cell_type": "code",
   "execution_count": null,
   "id": "2b80274b-ca02-46e6-83d0-125304c541a7",
   "metadata": {},
   "outputs": [],
   "source": [
    "Under 18.5\tUnderweight\tMinimal\n",
    "18.5 - 24.9\tNormal Weight\tMinimal\n",
    "25 - 29.9\tOverweight\tIncreased\n",
    "30 - 34.9\tObese\tHigh\n",
    "35 - 39.9\tSeverely Obese\tVery High\n",
    "40 and over\tMorbidly Obese\tExtremely High"
   ]
  },
  {
   "cell_type": "code",
   "execution_count": null,
   "id": "258f95e9-4916-40d2-98b5-f25603479aaa",
   "metadata": {},
   "outputs": [],
   "source": []
  },
  {
   "cell_type": "code",
   "execution_count": null,
   "id": "7e7a1405-9676-4125-a6c4-2e9afdbb0995",
   "metadata": {},
   "outputs": [],
   "source": []
  },
  {
   "cell_type": "code",
   "execution_count": null,
   "id": "27b37b38-5042-4c02-84df-914307a13af0",
   "metadata": {},
   "outputs": [],
   "source": []
  },
  {
   "cell_type": "code",
   "execution_count": null,
   "id": "7acbf69c-5217-4468-b6e3-528a82e02500",
   "metadata": {},
   "outputs": [],
   "source": []
  },
  {
   "cell_type": "code",
   "execution_count": null,
   "id": "77419180-ad21-4ddd-85c6-8b911be20b9a",
   "metadata": {},
   "outputs": [],
   "source": []
  },
  {
   "cell_type": "code",
   "execution_count": null,
   "id": "2327a878-512e-4c93-bbf7-e7d45105a6bd",
   "metadata": {},
   "outputs": [],
   "source": []
  },
  {
   "cell_type": "code",
   "execution_count": null,
   "id": "7f88423e-7a3b-455c-a570-40279b751d6d",
   "metadata": {},
   "outputs": [],
   "source": []
  },
  {
   "cell_type": "code",
   "execution_count": null,
   "id": "7b28ec51-1c4f-4573-8870-45c4a9124628",
   "metadata": {},
   "outputs": [],
   "source": []
  }
 ],
 "metadata": {
  "kernelspec": {
   "display_name": "Python 3 (ipykernel)",
   "language": "python",
   "name": "python3"
  },
  "language_info": {
   "codemirror_mode": {
    "name": "ipython",
    "version": 3
   },
   "file_extension": ".py",
   "mimetype": "text/x-python",
   "name": "python",
   "nbconvert_exporter": "python",
   "pygments_lexer": "ipython3",
   "version": "3.12.7"
  }
 },
 "nbformat": 4,
 "nbformat_minor": 5
}
